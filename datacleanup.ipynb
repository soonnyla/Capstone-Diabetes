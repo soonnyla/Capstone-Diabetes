{
 "cells": [
  {
   "cell_type": "code",
   "execution_count": 78,
   "metadata": {},
   "outputs": [],
   "source": [
    "# Install Library\n",
    "import pandas as pd\n",
    "import numpy as np\n",
    "import seaborn as sns\n",
    "import matplotlib.pyplot as plt\n",
    "import plotly.express as px"
   ]
  },
  {
   "cell_type": "code",
   "execution_count": 79,
   "metadata": {},
   "outputs": [],
   "source": [
    "# Ignore Warning\n",
    "from warnings import filterwarnings\n",
    "filterwarnings('ignore')\n"
   ]
  },
  {
   "cell_type": "code",
   "execution_count": 80,
   "metadata": {},
   "outputs": [
    {
     "data": {
      "text/plain": [
       "<bound method DataFrame.info of         _STATE  FMONTH        IDATE IMONTH   IDAY    IYEAR  DISPCODE  \\\n",
       "0          1.0     1.0  b'01292015'  b'01'  b'29'  b'2015'    1200.0   \n",
       "1          1.0     1.0  b'01202015'  b'01'  b'20'  b'2015'    1100.0   \n",
       "2          1.0     1.0  b'02012015'  b'02'  b'01'  b'2015'    1200.0   \n",
       "3          1.0     1.0  b'01142015'  b'01'  b'14'  b'2015'    1100.0   \n",
       "4          1.0     1.0  b'01142015'  b'01'  b'14'  b'2015'    1100.0   \n",
       "...        ...     ...          ...    ...    ...      ...       ...   \n",
       "441451    72.0    11.0  b'12162015'  b'12'  b'16'  b'2015'    1100.0   \n",
       "441452    72.0    11.0  b'12142015'  b'12'  b'14'  b'2015'    1100.0   \n",
       "441453    72.0    11.0  b'12232015'  b'12'  b'23'  b'2015'    1200.0   \n",
       "441454    72.0    11.0  b'12152015'  b'12'  b'15'  b'2015'    1100.0   \n",
       "441455    72.0    11.0  b'12152015'  b'12'  b'15'  b'2015'    1100.0   \n",
       "\n",
       "               SEQNO          _PSU  CTELENUM  ...  _PAREC1  _PASTAE1  \\\n",
       "0       2.015000e+09  2.015000e+09       1.0  ...      4.0       2.0   \n",
       "1       2.015000e+09  2.015000e+09       1.0  ...      2.0       2.0   \n",
       "2       2.015000e+09  2.015000e+09       1.0  ...      9.0       9.0   \n",
       "3       2.015000e+09  2.015000e+09       1.0  ...      4.0       2.0   \n",
       "4       2.015000e+09  2.015000e+09       1.0  ...      4.0       2.0   \n",
       "...              ...           ...       ...  ...      ...       ...   \n",
       "441451  2.015005e+09  2.015005e+09       NaN  ...      4.0       2.0   \n",
       "441452  2.015005e+09  2.015005e+09       NaN  ...      2.0       2.0   \n",
       "441453  2.015005e+09  2.015005e+09       NaN  ...      9.0       9.0   \n",
       "441454  2.015005e+09  2.015005e+09       NaN  ...      4.0       2.0   \n",
       "441455  2.015005e+09  2.015005e+09       NaN  ...      4.0       2.0   \n",
       "\n",
       "        _LMTACT1  _LMTWRK1  _LMTSCL1  _RFSEAT2  _RFSEAT3  _FLSHOT6  _PNEUMO2  \\\n",
       "0            1.0       1.0       1.0       1.0       1.0       NaN       NaN   \n",
       "1            3.0       3.0       4.0       2.0       2.0       NaN       NaN   \n",
       "2            9.0       9.0       9.0       9.0       9.0       9.0       9.0   \n",
       "3            1.0       1.0       1.0       1.0       1.0       NaN       NaN   \n",
       "4            1.0       1.0       1.0       1.0       1.0       NaN       NaN   \n",
       "...          ...       ...       ...       ...       ...       ...       ...   \n",
       "441451       2.0       2.0       3.0       1.0       1.0       2.0       2.0   \n",
       "441452       3.0       3.0       4.0       1.0       1.0       NaN       NaN   \n",
       "441453       3.0       3.0       4.0       9.0       9.0       9.0       9.0   \n",
       "441454       3.0       3.0       4.0       1.0       1.0       NaN       NaN   \n",
       "441455       3.0       3.0       4.0       1.0       1.0       NaN       NaN   \n",
       "\n",
       "        _AIDTST3  \n",
       "0            1.0  \n",
       "1            2.0  \n",
       "2            NaN  \n",
       "3            9.0  \n",
       "4            1.0  \n",
       "...          ...  \n",
       "441451       2.0  \n",
       "441452       1.0  \n",
       "441453       NaN  \n",
       "441454       2.0  \n",
       "441455       1.0  \n",
       "\n",
       "[441456 rows x 330 columns]>"
      ]
     },
     "execution_count": 80,
     "metadata": {},
     "output_type": "execute_result"
    }
   ],
   "source": [
    "#Load DataSet\n",
    "#read in the dataset (select 2011 to 2015)\n",
    "# year11 = '2011'\n",
    "# year12 = '2012'\n",
    "# year13 = '2013'\n",
    "# year14 = '2014'\n",
    "# brfss_2011_dataset = pd.read_csv(f'C:\\Github\\Diabetes\\Diabetes\\Data\\{year11}.csv')\n",
    "# brfss_2012_dataset = pd.read_csv(f'C:\\Github\\Diabetes\\Diabetes\\Data\\{year12}.csv')\n",
    "# brfss_2013_dataset = pd.read_csv(f'C:\\Github\\Diabetes\\Diabetes\\Data\\{year13}.csv')\n",
    "# brfss_2014_dataset = pd.read_csv(f'C:\\Github\\Diabetes\\Diabetes\\Data\\{year14}.csv')\n",
    "\n",
    "year15 = '2015'\n",
    "brfss_2015_dataset = pd.read_csv(f'C:\\Github\\Diabetes\\Diabetes\\Data\\{year15}.csv')\n",
    "brfss_2015_dataset.info"
   ]
  },
  {
   "cell_type": "code",
   "execution_count": 81,
   "metadata": {},
   "outputs": [
    {
     "data": {
      "text/plain": [
       "<bound method DataFrame.info of         DIABETE3  _RFHYPE5  TOLDHI2  _CHOLCHK   _BMI5  SMOKE100  CVDSTRK3  \\\n",
       "0            3.0       2.0      1.0       1.0  4018.0       1.0       2.0   \n",
       "1            3.0       1.0      2.0       2.0  2509.0       1.0       2.0   \n",
       "2            3.0       1.0      1.0       1.0  2204.0       NaN       1.0   \n",
       "3            3.0       2.0      1.0       1.0  2819.0       2.0       2.0   \n",
       "4            3.0       1.0      2.0       1.0  2437.0       2.0       2.0   \n",
       "...          ...       ...      ...       ...     ...       ...       ...   \n",
       "441451       1.0       2.0      1.0       1.0  1842.0       2.0       2.0   \n",
       "441452       3.0       1.0      2.0       1.0  2834.0       2.0       2.0   \n",
       "441453       3.0       2.0      1.0       1.0  4110.0       1.0       2.0   \n",
       "441454       3.0       2.0      2.0       1.0  2315.0       2.0       2.0   \n",
       "441455       1.0       2.0      1.0       1.0  2469.0       2.0       2.0   \n",
       "\n",
       "        _MICHD  _TOTINDA  _FRTLT1  ...  HLTHPLN1  MEDCOST  GENHLTH  MENTHLTH  \\\n",
       "0          2.0       2.0      2.0  ...       1.0      2.0      5.0      18.0   \n",
       "1          2.0       1.0      2.0  ...       2.0      1.0      3.0      88.0   \n",
       "2          NaN       9.0      9.0  ...       1.0      2.0      4.0      88.0   \n",
       "3          2.0       2.0      1.0  ...       1.0      1.0      5.0      30.0   \n",
       "4          2.0       2.0      9.0  ...       1.0      2.0      5.0      88.0   \n",
       "...        ...       ...      ...  ...       ...      ...      ...       ...   \n",
       "441451     2.0       2.0      2.0  ...       1.0      2.0      4.0      88.0   \n",
       "441452     2.0       1.0      1.0  ...       1.0      2.0      1.0      88.0   \n",
       "441453     2.0       9.0      9.0  ...       1.0      2.0      4.0      20.0   \n",
       "441454     2.0       2.0      1.0  ...       1.0      2.0      3.0      88.0   \n",
       "441455     1.0       1.0      1.0  ...       1.0      2.0      2.0      88.0   \n",
       "\n",
       "        PHYSHLTH  DIFFWALK  SEX  _AGEG5YR  EDUCA  INCOME2  \n",
       "0           15.0       1.0  2.0       9.0    4.0      3.0  \n",
       "1           88.0       2.0  2.0       7.0    6.0      1.0  \n",
       "2           15.0       NaN  2.0      11.0    4.0     99.0  \n",
       "3           30.0       1.0  2.0       9.0    4.0      8.0  \n",
       "4           20.0       2.0  2.0       9.0    5.0     77.0  \n",
       "...          ...       ...  ...       ...    ...      ...  \n",
       "441451      88.0       1.0  2.0      11.0    2.0      4.0  \n",
       "441452      88.0       2.0  2.0       2.0    5.0      2.0  \n",
       "441453      88.0       2.0  2.0      11.0    4.0      5.0  \n",
       "441454      88.0       2.0  1.0       7.0    5.0      1.0  \n",
       "441455      88.0       2.0  2.0       9.0    6.0      2.0  \n",
       "\n",
       "[441456 rows x 22 columns]>"
      ]
     },
     "execution_count": 81,
     "metadata": {},
     "output_type": "execute_result"
    }
   ],
   "source": [
    "\n",
    "# select specific columns, based on BRFSS 2015 Codebook: https://www.cdc.gov/brfss/annual_data/2015/pdf/codebook15_llcp.pdf\n",
    "brfss_df_selected = brfss_2015_dataset[['DIABETE3',\n",
    "                                         '_RFHYPE5',  \n",
    "                                         'TOLDHI2', '_CHOLCHK', \n",
    "                                         '_BMI5', \n",
    "                                         'SMOKE100', \n",
    "                                         'CVDSTRK3', '_MICHD', \n",
    "                                         '_TOTINDA', \n",
    "                                         '_FRTLT1', '_VEGLT1', \n",
    "                                         '_RFDRHV5', \n",
    "                                         'HLTHPLN1', 'MEDCOST', \n",
    "                                         'GENHLTH', 'MENTHLTH', 'PHYSHLTH', 'DIFFWALK', \n",
    "                                         'SEX', '_AGEG5YR', 'EDUCA', 'INCOME2' ]]\n",
    "\n",
    "brfss_df_selected.info\n"
   ]
  },
  {
   "cell_type": "markdown",
   "metadata": {},
   "source": [
    "##Modify and Clean Data"
   ]
  },
  {
   "cell_type": "code",
   "execution_count": 82,
   "metadata": {},
   "outputs": [
    {
     "data": {
      "text/plain": [
       "(343606, 22)"
      ]
     },
     "execution_count": 82,
     "metadata": {},
     "output_type": "execute_result"
    }
   ],
   "source": [
    "#Step 1 - Remove Missing Values records\n",
    "brfss_df_selected = brfss_df_selected.dropna()\n",
    "brfss_df_selected.shape"
   ]
  },
  {
   "cell_type": "markdown",
   "metadata": {},
   "source": [
    "#Step 2 -  Modify and clean the values to be more suitable to ML algorithms\n",
    "In order to do this part, I referenced the codebook which says what each column/feature/question is\n",
    "BRFSS 2015 Codebook: https://www.cdc.gov/brfss/annual_data/2015/pdf/codebook15_llcp.pdf"
   ]
  },
  {
   "cell_type": "code",
   "execution_count": 83,
   "metadata": {},
   "outputs": [
    {
     "name": "stdout",
     "output_type": "stream",
     "text": [
      "before [3. 1. 4. 2. 7. 9.]\n",
      "After [0. 2. 1.]\n"
     ]
    },
    {
     "data": {
      "text/plain": [
       "(343232, 22)"
      ]
     },
     "execution_count": 83,
     "metadata": {},
     "output_type": "execute_result"
    }
   ],
   "source": [
    "# 1 DIABETE3 (Column 111, data value provied as below)\n",
    "# Description: (Ever told) you have diabetes  (If \"Yes\" and respondent is female, ask \"Was this only when you were pregnant?\". \n",
    "# If Respondent says pre-diabetes or borderline diabetes, use response code 4.) \n",
    "\n",
    "# 1 = Yes\n",
    "# 2 = Yes, But female told only during pregnancy\n",
    "# 3 = No\n",
    "# 4 = No, pre-diabetes or borderline diabetes\n",
    "# 7 = Don't know or not sure\n",
    "# 9 = Refused\n",
    "\n",
    "# Modify data value\n",
    "# 1 = changed to 2 \n",
    "# 2 = changed to 0 \n",
    "# 3 = changed to 0\n",
    "# 4 = changed to 1\n",
    "# 7 = removed records\n",
    "# 9 = removed records\n",
    "\n",
    "print(\"before\", brfss_df_selected.DIABETE3.unique())\n",
    "brfss_df_selected['DIABETE3'] = brfss_df_selected['DIABETE3'].replace({2:0, 3:0, 1:2, 4:1})\n",
    "brfss_df_selected = brfss_df_selected[brfss_df_selected.DIABETE3 != 7]\n",
    "brfss_df_selected = brfss_df_selected[brfss_df_selected.DIABETE3 != 9]\n",
    "print(\"After\", brfss_df_selected.DIABETE3.unique())\n",
    "brfss_df_selected.shape"
   ]
  },
  {
   "cell_type": "code",
   "execution_count": 84,
   "metadata": {},
   "outputs": [
    {
     "name": "stdout",
     "output_type": "stream",
     "text": [
      "Before [2. 1. 9.]\n",
      "After [1. 0.]\n"
     ]
    },
    {
     "data": {
      "text/plain": [
       "(342539, 22)"
      ]
     },
     "execution_count": 84,
     "metadata": {},
     "output_type": "execute_result"
    }
   ],
   "source": [
    "# 2 _RFHYPE5 (Column 1896, data value provided as below)\n",
    "#Description: Adults who have been told they have high blood pressure by a doctor, nurse, or other health professional\n",
    "\n",
    "# 1 = No\n",
    "# 2 = Yes\n",
    "# 9 = Don’t know/Not Sure/Refused/Missing\n",
    "\n",
    "# Modify data value \n",
    "# 1 = changed to 0\n",
    "# 2 = Changed to 1 \n",
    "# 9 = Removed records\n",
    "#Change 1 to 0 so it represetnts No high blood pressure and 2 to 1 so it represents high blood pressure\n",
    "\n",
    "print(\"Before\", brfss_df_selected._RFHYPE5.unique())\n",
    "brfss_df_selected['_RFHYPE5'] = brfss_df_selected['_RFHYPE5'].replace({1:0, 2:1})\n",
    "brfss_df_selected = brfss_df_selected[brfss_df_selected._RFHYPE5 != 9]\n",
    "print(\"After\", brfss_df_selected._RFHYPE5.unique())\n",
    "brfss_df_selected.shape"
   ]
  },
  {
   "cell_type": "code",
   "execution_count": 85,
   "metadata": {},
   "outputs": [
    {
     "name": "stdout",
     "output_type": "stream",
     "text": [
      "Before [1. 2. 7. 9.]\n",
      "After [1. 0.]\n"
     ]
    },
    {
     "data": {
      "text/plain": [
       "(339832, 22)"
      ]
     },
     "execution_count": 85,
     "metadata": {},
     "output_type": "execute_result"
    }
   ],
   "source": [
    "# 3 TOLDHI2 (Column 1898, data value provided as below)\n",
    "# Description: Adults who have had their cholesterol checked and have been told by a doctor, nurse, \n",
    "# or other health professional that it was high\n",
    "\n",
    "# 1 = No\n",
    "# 2 = Yes\n",
    "# 9 = Don’t know/Not Sure/Refused/Missing\n",
    "\n",
    "# Modify data value \n",
    "# 1 = Unchange\n",
    "# 2 = change to 0\n",
    "# 7 = Removed records\n",
    "# 9 = Removed records\n",
    "\n",
    "\n",
    "print(\"Before\", brfss_df_selected.TOLDHI2.unique())\n",
    "brfss_df_selected['TOLDHI2'] = brfss_df_selected['TOLDHI2'].replace({2:0})\n",
    "brfss_df_selected = brfss_df_selected[brfss_df_selected.TOLDHI2 != 7]\n",
    "brfss_df_selected = brfss_df_selected[brfss_df_selected.TOLDHI2 != 9]\n",
    "print(\"After\", brfss_df_selected.TOLDHI2.unique())\n",
    "brfss_df_selected.shape"
   ]
  },
  {
   "cell_type": "code",
   "execution_count": 86,
   "metadata": {},
   "outputs": [
    {
     "name": "stdout",
     "output_type": "stream",
     "text": [
      "Before [1. 2. 9.]\n",
      "After [1. 0.]\n"
     ]
    },
    {
     "data": {
      "text/plain": [
       "(335490, 22)"
      ]
     },
     "execution_count": 86,
     "metadata": {},
     "output_type": "execute_result"
    }
   ],
   "source": [
    "# 4 _CHOLCHK (Column 1897, data value provided as below)\n",
    "# Description: Cholesterol check within past five years \n",
    " \n",
    "# 1 = Had cholesterol checked in past 5 years\n",
    "# 2 = Did not have cholesterol checked in past 5 years\n",
    "# 3 = Have never had cholesterol checked \n",
    "# 9 = Don’t know/Not Sure/Refused/Missing\n",
    "\n",
    "# Modify data value \n",
    "# 1 = Unchange\n",
    "# 2 = change to 0\n",
    "# 3 = change to 0\n",
    "# 9 = Removed records\n",
    "\n",
    "print(\"Before\", brfss_df_selected._CHOLCHK.unique())\n",
    "brfss_df_selected['_CHOLCHK'] = brfss_df_selected['_CHOLCHK'].replace({3:0,2:0})\n",
    "brfss_df_selected = brfss_df_selected[brfss_df_selected._CHOLCHK != 9]\n",
    "print(\"After\", brfss_df_selected._CHOLCHK.unique())\n",
    "brfss_df_selected.shape"
   ]
  },
  {
   "cell_type": "code",
   "execution_count": 87,
   "metadata": {},
   "outputs": [
    {
     "name": "stdout",
     "output_type": "stream",
     "text": [
      "Before [4018. 2509. 2819. ... 4159. 1444. 6076.]\n",
      "After [40. 25. 28. 24. 27. 30. 26. 23. 34. 33. 21. 22. 31. 38. 20. 19. 32. 46.\n",
      " 41. 37. 36. 29. 35. 18. 54. 45. 39. 47. 43. 55. 49. 42. 17. 16. 48. 44.\n",
      " 50. 59. 15. 52. 53. 57. 51. 14. 58. 63. 61. 56. 60. 74. 62. 64. 13. 66.\n",
      " 73. 65. 68. 85. 71. 84. 67. 70. 82. 79. 92. 72. 88. 96. 81. 12. 77. 95.\n",
      " 75. 91. 69. 76. 87. 89. 83. 98. 86. 80. 90. 78. 97.]\n"
     ]
    },
    {
     "data": {
      "text/plain": [
       "(335490, 22)"
      ]
     },
     "execution_count": 87,
     "metadata": {},
     "output_type": "execute_result"
    }
   ],
   "source": [
    "# 5 _BMI5 (Column 1898 ~ 1991, data value provided as below)\n",
    "# Description: Body Mass Index (BMI) \n",
    "\n",
    "# 1 - 9999 1 or greater\n",
    "\n",
    "# Modify data value\n",
    "# BMI * 100, to remove decimal points for example a BMI of 4018 is really 40.18\n",
    "\n",
    "print(\"Before\", brfss_df_selected._BMI5.unique())\n",
    "brfss_df_selected['_BMI5'] = brfss_df_selected['_BMI5'].div(100).round(0)\n",
    "brfss_df_selected._BMI5.unique()\n",
    "print(\"After\", brfss_df_selected._BMI5.unique())\n",
    "brfss_df_selected.shape"
   ]
  },
  {
   "cell_type": "code",
   "execution_count": 88,
   "metadata": {},
   "outputs": [
    {
     "name": "stdout",
     "output_type": "stream",
     "text": [
      "Before [1. 2. 7. 9.]\n",
      "After [1. 0.]\n"
     ]
    },
    {
     "data": {
      "text/plain": [
       "(333529, 22)"
      ]
     },
     "execution_count": 88,
     "metadata": {},
     "output_type": "execute_result"
    }
   ],
   "source": [
    "# 6 SMOKE100 (Column 194, data value provided as below)\n",
    "# Description: Have you smoked at least 100 cigarettes in your entire life?   [Note:  5 packs = 100 cigarettes]\n",
    "\n",
    "# 1 = Yes\n",
    "# 2 = No\n",
    "# 7 = Don’t know/Not Sure\n",
    "# 9 = Refused\n",
    "\n",
    "# Modify data value\n",
    "# 1 = Unchange\n",
    "# 2 = change to 0\n",
    "# 7 = Removed records\n",
    "# 9 = Removed records\n",
    "\n",
    "print(\"Before\", brfss_df_selected.SMOKE100.unique())\n",
    "brfss_df_selected['SMOKE100'] = brfss_df_selected['SMOKE100'].replace({2:0})\n",
    "brfss_df_selected = brfss_df_selected[brfss_df_selected.SMOKE100 != 7]\n",
    "brfss_df_selected = brfss_df_selected[brfss_df_selected.SMOKE100 != 9]\n",
    "print(\"After\", brfss_df_selected.SMOKE100.unique())\n",
    "brfss_df_selected.shape"
   ]
  },
  {
   "cell_type": "code",
   "execution_count": 89,
   "metadata": {},
   "outputs": [
    {
     "name": "stdout",
     "output_type": "stream",
     "text": [
      "Before [2. 1. 7. 9.]\n",
      "After [0. 1.]\n"
     ]
    },
    {
     "data": {
      "text/plain": [
       "(332801, 22)"
      ]
     },
     "execution_count": 89,
     "metadata": {},
     "output_type": "execute_result"
    }
   ],
   "source": [
    "# 7 CVDSTRK3 (Column 108, data value provided as below)\n",
    "# Description: (Ever told) you had a stroke\n",
    "\n",
    "# 1 = Yes\n",
    "# 2 = No\n",
    "# 7 = Don’t know/Not Sure\n",
    "# 9 = Refused\n",
    "\n",
    "# Modify data value\n",
    "# 1 = Unchange\n",
    "# 2 = change to 0\n",
    "# 7 = Removed records\n",
    "# 9 = Removed records\n",
    "\n",
    "print(\"Before\", brfss_df_selected.CVDSTRK3.unique())\n",
    "brfss_df_selected['CVDSTRK3'] = brfss_df_selected['CVDSTRK3'].replace({2:0})\n",
    "brfss_df_selected = brfss_df_selected[brfss_df_selected.CVDSTRK3 != 7]\n",
    "brfss_df_selected = brfss_df_selected[brfss_df_selected.CVDSTRK3 != 9]\n",
    "print(\"After\", brfss_df_selected.CVDSTRK3.unique())\n",
    "brfss_df_selected.shape"
   ]
  },
  {
   "cell_type": "code",
   "execution_count": 90,
   "metadata": {},
   "outputs": [
    {
     "name": "stdout",
     "output_type": "stream",
     "text": [
      "Before [2. 1.]\n",
      "After [0. 1.]\n"
     ]
    },
    {
     "data": {
      "text/plain": [
       "(332801, 22)"
      ]
     },
     "execution_count": 90,
     "metadata": {},
     "output_type": "execute_result"
    }
   ],
   "source": [
    "# 8 _MICHD (Column 1899, data value provided as below)\n",
    "# Description: Respondents that have ever reported having coronary heart disease (CHD) or myocardial infarction (MI) \n",
    "\n",
    "# 1 = Reported having MI or CHD \n",
    "# 2 = Did not report having MI or CHD \n",
    "\n",
    "\n",
    "# Modify data value\n",
    "# 1 = Unchange\n",
    "# 2 = change to 0\n",
    "\n",
    "\n",
    "print(\"Before\", brfss_df_selected._MICHD.unique())\n",
    "brfss_df_selected['_MICHD'] = brfss_df_selected['_MICHD'].replace({2: 0})\n",
    "brfss_df_selected._MICHD.unique()\n",
    "print(\"After\", brfss_df_selected._MICHD.unique())\n",
    "brfss_df_selected.shape"
   ]
  },
  {
   "cell_type": "code",
   "execution_count": 91,
   "metadata": {},
   "outputs": [
    {
     "name": "stdout",
     "output_type": "stream",
     "text": [
      "Before [2. 1. 9.]\n",
      "After [0. 1.]\n"
     ]
    },
    {
     "data": {
      "text/plain": [
       "(317404, 22)"
      ]
     },
     "execution_count": 91,
     "metadata": {},
     "output_type": "execute_result"
    }
   ],
   "source": [
    "# 9 _TOTINDA (Column 2058, data value provided as below)\n",
    "# Description: Adults who reported doing physical activity or exercise during the past 30 days other than their regular job \n",
    "\n",
    "# 1 = Had physical activity or exercise\n",
    "# 2 = No physical activity or exercise in last 30 days\n",
    "# 9 = Don’t know/Refused/Missing\n",
    "\n",
    "# Modify data value\n",
    "# 1 = Unchange\n",
    "# 2 = change to 0\n",
    "# 9 = Removed records\n",
    "\n",
    "print(\"Before\", brfss_df_selected._TOTINDA.unique())\n",
    "brfss_df_selected['_TOTINDA'] = brfss_df_selected['_TOTINDA'].replace({2:0})\n",
    "brfss_df_selected = brfss_df_selected[brfss_df_selected._TOTINDA != 9]\n",
    "print(\"After\", brfss_df_selected._TOTINDA.unique())\n",
    "brfss_df_selected.shape"
   ]
  },
  {
   "cell_type": "code",
   "execution_count": 92,
   "metadata": {},
   "outputs": [
    {
     "name": "stdout",
     "output_type": "stream",
     "text": [
      "Before [2. 1. 9.]\n",
      "After [0. 1.]\n"
     ]
    },
    {
     "data": {
      "text/plain": [
       "(309768, 22)"
      ]
     },
     "execution_count": 92,
     "metadata": {},
     "output_type": "execute_result"
    }
   ],
   "source": [
    "# 10 _FRTLT1 (Column 2050, data value provided as below)\n",
    "# Description: Consume Fruit 1 or more times per day \n",
    "\n",
    "# 1 = Consumed fruit one or more times per day\n",
    "# 2 = Consumed fruit less than one time per day \n",
    "# 9 = Don’t know/Refused/Missing\n",
    "\n",
    "# Modify data value\n",
    "# 1 = Unchange\n",
    "# 2 = change to 0\n",
    "# 9 = Removed records\n",
    "\n",
    "print(\"Before\", brfss_df_selected._FRTLT1.unique())\n",
    "brfss_df_selected['_FRTLT1'] = brfss_df_selected['_FRTLT1'].replace({2:0})\n",
    "brfss_df_selected = brfss_df_selected[brfss_df_selected._FRTLT1 != 9]\n",
    "print(\"After\", brfss_df_selected._FRTLT1.unique())\n",
    "brfss_df_selected.shape"
   ]
  },
  {
   "cell_type": "code",
   "execution_count": 93,
   "metadata": {},
   "outputs": [
    {
     "name": "stdout",
     "output_type": "stream",
     "text": [
      "Before [1. 2. 9.]\n",
      "After [1. 0.]\n"
     ]
    },
    {
     "data": {
      "text/plain": [
       "(302160, 22)"
      ]
     },
     "execution_count": 93,
     "metadata": {},
     "output_type": "execute_result"
    }
   ],
   "source": [
    "# 11 _VEGLT1 (Column 2051, data value provided as below)\n",
    "# Description: Consume Vegetables 1 or more times per day \n",
    "\n",
    "# 1 = Consumed vegetables one or more times per day \n",
    "# 2 = Consumed vegetables less than one time per day \n",
    "# 9 = Don’t know/Refused/Missing\n",
    "\n",
    "# Modify data value\n",
    "# 1 = Unchange\n",
    "# 2 = change to 0\n",
    "# 9 = Removed records\n",
    "\n",
    "print(\"Before\", brfss_df_selected._VEGLT1.unique())\n",
    "brfss_df_selected['_VEGLT1'] = brfss_df_selected['_VEGLT1'].replace({2:0})\n",
    "brfss_df_selected = brfss_df_selected[brfss_df_selected._VEGLT1 != 9]\n",
    "print(\"After\", brfss_df_selected._VEGLT1.unique())\n",
    "brfss_df_selected.shape"
   ]
  },
  {
   "cell_type": "code",
   "execution_count": 94,
   "metadata": {},
   "outputs": [
    {
     "name": "stdout",
     "output_type": "stream",
     "text": [
      "Before [1. 9. 2.]\n",
      "After [0. 1.]\n"
     ]
    },
    {
     "data": {
      "text/plain": [
       "(298637, 22)"
      ]
     },
     "execution_count": 94,
     "metadata": {},
     "output_type": "execute_result"
    }
   ],
   "source": [
    "# 12 _RFDRHV5 (Column 2009, data value provided as below)\n",
    "# Description: Heavy drinkers (adult men having more than 14 drinks per week and adult women having more than 7 drinks per week)\n",
    "\n",
    "# 1 = No \n",
    "# 2 = Yes\n",
    "# 9 = Don’t know/Refused/Missing\n",
    "\n",
    "# Modify data value\n",
    "# 1 = change to 0\n",
    "# 2 = change to 1\n",
    "# 9 = Removed records\n",
    "\n",
    "print(\"Before\", brfss_df_selected._RFDRHV5.unique())\n",
    "brfss_df_selected['_RFDRHV5'] = brfss_df_selected['_RFDRHV5'].replace({1:0, 2:1})\n",
    "brfss_df_selected = brfss_df_selected[brfss_df_selected._RFDRHV5 != 9]\n",
    "print(\"After\", brfss_df_selected._RFDRHV5.unique())\n",
    "brfss_df_selected.shape"
   ]
  },
  {
   "cell_type": "code",
   "execution_count": 95,
   "metadata": {},
   "outputs": [
    {
     "name": "stdout",
     "output_type": "stream",
     "text": [
      "Before [1. 2. 9. 7.]\n",
      "After [1. 0.]\n"
     ]
    },
    {
     "data": {
      "text/plain": [
       "(298145, 22)"
      ]
     },
     "execution_count": 95,
     "metadata": {},
     "output_type": "execute_result"
    }
   ],
   "source": [
    "# 13 HLTHPLN1 (Column 97, data value provided as below)\n",
    "# Description: Do you have any kind of health care coverage, including health insurance, prepaid plans such as HMOs, or government plans such as Medicare, or Indian Health Service? \n",
    "\n",
    "# 1 = Yes\n",
    "# 2 = No\n",
    "# 7 = Don’t know/Not Sure \n",
    "# 9 = Refused\n",
    "\n",
    "# Modify data value\n",
    "# 1 = Unchange\n",
    "# 2 = change to 0\n",
    "# 7 = Removed records\n",
    "# 9 = Removed records\n",
    "\n",
    "print(\"Before\", brfss_df_selected.HLTHPLN1.unique())\n",
    "brfss_df_selected['HLTHPLN1'] = brfss_df_selected['HLTHPLN1'].replace({2:0})\n",
    "brfss_df_selected = brfss_df_selected[brfss_df_selected.HLTHPLN1 != 7]\n",
    "brfss_df_selected = brfss_df_selected[brfss_df_selected.HLTHPLN1 != 9]\n",
    "print(\"After\", brfss_df_selected.HLTHPLN1.unique())\n",
    "brfss_df_selected.shape"
   ]
  },
  {
   "cell_type": "code",
   "execution_count": 96,
   "metadata": {},
   "outputs": [
    {
     "name": "stdout",
     "output_type": "stream",
     "text": [
      "Before [2. 1. 7. 9.]\n",
      "After [0. 1.]\n"
     ]
    },
    {
     "data": {
      "text/plain": [
       "(297709, 22)"
      ]
     },
     "execution_count": 96,
     "metadata": {},
     "output_type": "execute_result"
    }
   ],
   "source": [
    "# 14 MEDCOST (Column 99, data value provided as below)\n",
    "# Description: Was there a time in the past 12 months when you needed to see a doctor but could not because of cost?\n",
    "\n",
    "# 1 = Yes\n",
    "# 2 = No\n",
    "# 7 = Don’t know/Not Sure \n",
    "# 9 = Refused\n",
    "\n",
    "# Modify data value\n",
    "# 1 = Unchange\n",
    "# 2 = change to 0\n",
    "# 7 = Removed records\n",
    "# 9 = Removed records\n",
    "\n",
    "print(\"Before\", brfss_df_selected.MEDCOST.unique())\n",
    "brfss_df_selected['MEDCOST'] = brfss_df_selected['MEDCOST'].replace({2:0})\n",
    "brfss_df_selected = brfss_df_selected[brfss_df_selected.MEDCOST != 7]\n",
    "brfss_df_selected = brfss_df_selected[brfss_df_selected.MEDCOST != 9]\n",
    "print(\"After\", brfss_df_selected.MEDCOST.unique())\n",
    "brfss_df_selected.shape"
   ]
  },
  {
   "cell_type": "code",
   "execution_count": 97,
   "metadata": {},
   "outputs": [
    {
     "name": "stdout",
     "output_type": "stream",
     "text": [
      "Before [5. 3. 2. 4. 1. 7. 9.]\n",
      "After [5. 3. 2. 4. 1.]\n"
     ]
    },
    {
     "data": {
      "text/plain": [
       "(297194, 22)"
      ]
     },
     "execution_count": 97,
     "metadata": {},
     "output_type": "execute_result"
    }
   ],
   "source": [
    "# 15 GENHLTH (Column 90, data value provided as below)\n",
    "# Description: Would you say that in general your health is: \n",
    "\n",
    "# 1 = Excellent\n",
    "# 2 = Very good\n",
    "# 3 = Good\n",
    "# 4 = Fair\n",
    "# 5 = Poor\n",
    "# 7 = Don’t know/Not Sure\n",
    "# 9 = Refused\n",
    "\n",
    "# Modify data value\n",
    "# 1 = Unchange\n",
    "# 2 = Unchange\n",
    "# 3 = Unchange\n",
    "# 4 = Unchange\n",
    "# 5 = Unchange\n",
    "# 7 = Removed records\n",
    "# 9 = Removed records\n",
    "print(\"Before\", brfss_df_selected.GENHLTH.unique())\n",
    "brfss_df_selected = brfss_df_selected[brfss_df_selected.GENHLTH != 7]\n",
    "brfss_df_selected = brfss_df_selected[brfss_df_selected.GENHLTH != 9]\n",
    "print(\"After\", brfss_df_selected.GENHLTH.unique())\n",
    "brfss_df_selected.shape"
   ]
  },
  {
   "cell_type": "code",
   "execution_count": 98,
   "metadata": {},
   "outputs": [
    {
     "name": "stdout",
     "output_type": "stream",
     "text": [
      "Before [18. 88. 30.  3. 99.  5. 15. 10.  6. 20.  2. 25.  1. 29.  4. 77.  7.  8.\n",
      " 21. 14. 26.  9. 16. 28. 11. 12. 24. 17. 13. 23. 27. 19. 22.]\n",
      "After [18.  0. 30.  3.  5. 15. 10.  6. 20.  2. 25.  1. 29.  4.  7.  8. 21. 14.\n",
      " 26.  9. 16. 28. 11. 12. 24. 17. 13. 23. 27. 19. 22.]\n"
     ]
    },
    {
     "data": {
      "text/plain": [
       "(294102, 22)"
      ]
     },
     "execution_count": 98,
     "metadata": {},
     "output_type": "execute_result"
    }
   ],
   "source": [
    "# 16 MENTHLTH (Column 93-94, data value provided as below)\n",
    "# Description: Now thinking about your mental health, which includes stress, depression, and problems with emotions, for how many \n",
    "# days during the past 30 days was your mental health not good?\n",
    "\n",
    "# 1 ~ 30 = Number of days \n",
    "# 88 = None\n",
    "# 77 = Don’t know/Not Sure\n",
    "# 99 = Refused\n",
    "\n",
    "# Modify data value\n",
    "# 1 ~ 30 = Unchange\n",
    "# 88 = change to 0\n",
    "# 77 = Removed records\n",
    "# 99 = Removed records\n",
    "\n",
    "print(\"Before\", brfss_df_selected.MENTHLTH.unique())\n",
    "brfss_df_selected['MENTHLTH'] = brfss_df_selected['MENTHLTH'].replace({88:0})\n",
    "brfss_df_selected = brfss_df_selected[brfss_df_selected.MENTHLTH != 77]\n",
    "brfss_df_selected = brfss_df_selected[brfss_df_selected.MENTHLTH != 99]\n",
    "print(\"After\", brfss_df_selected.MENTHLTH.unique())\n",
    "brfss_df_selected.shape"
   ]
  },
  {
   "cell_type": "code",
   "execution_count": 99,
   "metadata": {},
   "outputs": [
    {
     "name": "stdout",
     "output_type": "stream",
     "text": [
      "Before [15. 88. 30.  2. 14. 28.  7. 77. 20.  3. 10.  1.  5. 17.  4. 19.  6. 21.\n",
      " 12.  8. 25. 27. 22. 29. 24.  9. 16. 99. 18. 23. 13. 26. 11.]\n",
      "After [18.  0. 30.  3.  5. 15. 10.  6. 20.  2. 25.  1.  4.  7.  8. 21. 14. 26.\n",
      "  9. 29. 16. 28. 11. 12. 24. 17. 13. 23. 27. 19. 22.]\n"
     ]
    },
    {
     "data": {
      "text/plain": [
       "(290473, 22)"
      ]
     },
     "execution_count": 99,
     "metadata": {},
     "output_type": "execute_result"
    }
   ],
   "source": [
    "# 17 PHYSHLTH (Column 91-92, data value provided as below)\n",
    "# Description: Now thinking about your physical health, which includes physical illness and injury, for how many days during the past \n",
    "# 30 days was your physical health not good? \n",
    "\n",
    "# 1 ~ 30 = Number of days \n",
    "# 88 = None\n",
    "# 77 = Don’t know/Not Sure\n",
    "# 99 = Refused\n",
    "\n",
    "# Modify data value\n",
    "# 1 ~ 30 = Unchange\n",
    "# 88 = change to 0\n",
    "# 77 = Removed records\n",
    "# 99 = Removed records\n",
    "\n",
    "print(\"Before\", brfss_df_selected.PHYSHLTH.unique())\n",
    "brfss_df_selected['PHYSHLTH'] = brfss_df_selected['PHYSHLTH'].replace({88:0})\n",
    "brfss_df_selected = brfss_df_selected[brfss_df_selected.PHYSHLTH != 77]\n",
    "brfss_df_selected = brfss_df_selected[brfss_df_selected.PHYSHLTH != 99]\n",
    "print(\"After\", brfss_df_selected.MENTHLTH.unique())\n",
    "brfss_df_selected.shape"
   ]
  },
  {
   "cell_type": "code",
   "execution_count": 100,
   "metadata": {},
   "outputs": [
    {
     "name": "stdout",
     "output_type": "stream",
     "text": [
      "Before [1. 2. 7. 9.]\n",
      "After [1. 0.]\n"
     ]
    },
    {
     "data": {
      "text/plain": [
       "(289698, 22)"
      ]
     },
     "execution_count": 100,
     "metadata": {},
     "output_type": "execute_result"
    }
   ],
   "source": [
    "# 18 DIFFWALK (Column 191, data value provided as below)\n",
    "# Description: Do you have serious difficulty walking or climbing stairs? \n",
    "\n",
    "# 1 = Yes\n",
    "# 2 = No\n",
    "# 7 = Don’t know/Not Sure \n",
    "# 9 = Refused\n",
    "\n",
    "# Modify data value\n",
    "# 1 = Unchange\n",
    "# 2 = change to 0\n",
    "# 7 = Removed records\n",
    "# 9 = Removed records\n",
    "\n",
    "print(\"Before\", brfss_df_selected.DIFFWALK.unique())\n",
    "brfss_df_selected['DIFFWALK'] = brfss_df_selected['DIFFWALK'].replace({2:0})\n",
    "brfss_df_selected = brfss_df_selected[brfss_df_selected.DIFFWALK != 7]\n",
    "brfss_df_selected = brfss_df_selected[brfss_df_selected.DIFFWALK != 9]\n",
    "print(\"After\", brfss_df_selected.DIFFWALK.unique())\n",
    "brfss_df_selected.shape"
   ]
  },
  {
   "cell_type": "code",
   "execution_count": 101,
   "metadata": {},
   "outputs": [
    {
     "name": "stdout",
     "output_type": "stream",
     "text": [
      "Before [2. 1.]\n",
      "After [0. 1.]\n"
     ]
    },
    {
     "data": {
      "text/plain": [
       "(289698, 22)"
      ]
     },
     "execution_count": 101,
     "metadata": {},
     "output_type": "execute_result"
    }
   ],
   "source": [
    "# 19 SEX (Column 120, data value provided as below)\n",
    "# Description: Indicate sex of respondent. \n",
    "\n",
    "# 1 = Male\n",
    "# 2 = Female\n",
    "\n",
    "# Modify data value\n",
    "# 1 = Unchange\n",
    "# 2 = change to 0\n",
    "\n",
    "print(\"Before\", brfss_df_selected.SEX.unique())\n",
    "brfss_df_selected['SEX'] = brfss_df_selected['SEX'].replace({2:0})\n",
    "brfss_df_selected.SEX.unique()\n",
    "print(\"After\", brfss_df_selected.SEX.unique())\n",
    "brfss_df_selected.shape"
   ]
  },
  {
   "cell_type": "code",
   "execution_count": 102,
   "metadata": {},
   "outputs": [
    {
     "name": "stdout",
     "output_type": "stream",
     "text": [
      "Before [ 9.  7. 11. 10. 13.  8.  4.  6.  2. 12.  5.  1.  3. 14.]\n",
      "After [ 9.  7. 11. 10. 13.  8.  4.  6.  2. 12.  5.  1.  3.]\n"
     ]
    },
    {
     "data": {
      "text/plain": [
       "(288259, 22)"
      ]
     },
     "execution_count": 102,
     "metadata": {},
     "output_type": "execute_result"
    }
   ],
   "source": [
    "# 20 _AGEG5YR (Column 1971 ~ 1972 , data value provided as below)\n",
    "# Description: Fourteen-level age category \n",
    "\n",
    "# 1 = Age 18 to 24\n",
    "# 2 = Age 25 to 29\n",
    "# 3 = Age 30 to 34\n",
    "# 4 = Age 35 to 39\n",
    "# 5 = Age 40 to 44\n",
    "# 6 = Age 45 to 49\n",
    "# 7 = Age 50 to 54 \n",
    "# 8 = Age 55 to 59\n",
    "# 9 = Age 60 to 64\n",
    "# 10 = Age 65 to 69\n",
    "# 11 = Age 70 to 74\n",
    "# 12 = Age 75 to 79 \n",
    "# 13 = Age 80 or 99 (older) \n",
    "# 14 = Don’t know/Refused/Missing\n",
    "\n",
    "# Modify data value\n",
    "# 1 to 13 = Unchange\n",
    "# 14 = Removed records\n",
    "\n",
    "print(\"Before\", brfss_df_selected._AGEG5YR.unique())\n",
    "brfss_df_selected = brfss_df_selected[brfss_df_selected._AGEG5YR != 14]\n",
    "print(\"After\", brfss_df_selected._AGEG5YR.unique())\n",
    "brfss_df_selected.shape"
   ]
  },
  {
   "cell_type": "code",
   "execution_count": 103,
   "metadata": {},
   "outputs": [
    {
     "name": "stdout",
     "output_type": "stream",
     "text": [
      "Before [4. 6. 3. 5. 2. 1. 9.]\n",
      "After [4. 6. 3. 5. 2. 1.]\n"
     ]
    },
    {
     "data": {
      "text/plain": [
       "(287931, 22)"
      ]
     },
     "execution_count": 103,
     "metadata": {},
     "output_type": "execute_result"
    }
   ],
   "source": [
    "# 21 EDUCA (Column 158 , data value provided as below)\n",
    "# Description: What is the highest grade or year of school you completed? \n",
    "\n",
    "# 1 = Never attended school or only kindergarten \n",
    "# 2 = Grades 1 through 8 (Elementary) \n",
    "# 3 = Grades 9 through 11 (Some high school)\n",
    "# 4 = Grade 12 or GED (High school graduate)\n",
    "# 5 = College 1 year to 3 years (Some college or technical school\n",
    "# 6 = College 4 years or more (College graduate) \n",
    "# 9 = Refused\n",
    "\n",
    "# Modify data value\n",
    "# 1 to 6 = Unchange\n",
    "# 9 = Removed records\n",
    "\n",
    "print(\"Before\", brfss_df_selected.EDUCA.unique())\n",
    "brfss_df_selected = brfss_df_selected[brfss_df_selected.EDUCA != 9]\n",
    "print(\"After\", brfss_df_selected.EDUCA.unique())\n",
    "brfss_df_selected.shape"
   ]
  },
  {
   "cell_type": "code",
   "execution_count": 104,
   "metadata": {},
   "outputs": [
    {
     "name": "stdout",
     "output_type": "stream",
     "text": [
      "Before [ 3.  1.  8.  6.  4.  7. 77.  2.  5. 99.]\n",
      "After [3. 1. 8. 6. 4. 7. 2. 5.]\n"
     ]
    },
    {
     "data": {
      "text/plain": [
       "(253680, 22)"
      ]
     },
     "execution_count": 104,
     "metadata": {},
     "output_type": "execute_result"
    }
   ],
   "source": [
    "# 22 INCOME2 (Column 175-176 , data value provided as below)\n",
    "# Description: Is your annual household income from all sources:  (If respondent refuses at any income level, code \"Refused.\")\n",
    "\n",
    "# 1 = Less than $10,000 \n",
    "# 2 = Less than $15,000 ($10,000 to less than $15,000)  \n",
    "# 3 = Less than $20,000 ($15,000 to less than $20,000)\n",
    "# 4 = Less than $25,000 ($20,000 to less than $25,000) \n",
    "# 5 = Less than $35,000 ($25,000 to less than $35,000)\n",
    "# 6 = Less than $50,000 ($35,000 to less than $50,000) \n",
    "# 7 = Less than $75,000 ($50,000 to less than $75,000)\n",
    "# 8 = $75,000 or more \n",
    "# 77 = Don’t know/Not sure \n",
    "# 99 = Refused\n",
    "\n",
    "# Modify data value\n",
    "# 1 to 8 = Unchange\n",
    "# 77 = Removed records\n",
    "# 99 = Removed records\n",
    "\n",
    "print(\"Before\", brfss_df_selected.INCOME2.unique())\n",
    "brfss_df_selected = brfss_df_selected[brfss_df_selected.INCOME2 != 77]\n",
    "brfss_df_selected = brfss_df_selected[brfss_df_selected.INCOME2 != 99]\n",
    "print(\"After\", brfss_df_selected.INCOME2.unique())\n",
    "brfss_df_selected.shape"
   ]
  },
  {
   "cell_type": "code",
   "execution_count": 105,
   "metadata": {},
   "outputs": [
    {
     "data": {
      "text/plain": [
       "(253680, 22)"
      ]
     },
     "execution_count": 105,
     "metadata": {},
     "output_type": "execute_result"
    }
   ],
   "source": [
    "#Check the shape of the dataset now\n",
    "brfss_df_selected.shape"
   ]
  },
  {
   "cell_type": "code",
   "execution_count": 106,
   "metadata": {},
   "outputs": [
    {
     "data": {
      "text/html": [
       "<div>\n",
       "<style scoped>\n",
       "    .dataframe tbody tr th:only-of-type {\n",
       "        vertical-align: middle;\n",
       "    }\n",
       "\n",
       "    .dataframe tbody tr th {\n",
       "        vertical-align: top;\n",
       "    }\n",
       "\n",
       "    .dataframe thead th {\n",
       "        text-align: right;\n",
       "    }\n",
       "</style>\n",
       "<table border=\"1\" class=\"dataframe\">\n",
       "  <thead>\n",
       "    <tr style=\"text-align: right;\">\n",
       "      <th></th>\n",
       "      <th>DIABETE3</th>\n",
       "      <th>_RFHYPE5</th>\n",
       "      <th>TOLDHI2</th>\n",
       "      <th>_CHOLCHK</th>\n",
       "      <th>_BMI5</th>\n",
       "      <th>SMOKE100</th>\n",
       "      <th>CVDSTRK3</th>\n",
       "      <th>_MICHD</th>\n",
       "      <th>_TOTINDA</th>\n",
       "      <th>_FRTLT1</th>\n",
       "      <th>...</th>\n",
       "      <th>HLTHPLN1</th>\n",
       "      <th>MEDCOST</th>\n",
       "      <th>GENHLTH</th>\n",
       "      <th>MENTHLTH</th>\n",
       "      <th>PHYSHLTH</th>\n",
       "      <th>DIFFWALK</th>\n",
       "      <th>SEX</th>\n",
       "      <th>_AGEG5YR</th>\n",
       "      <th>EDUCA</th>\n",
       "      <th>INCOME2</th>\n",
       "    </tr>\n",
       "  </thead>\n",
       "  <tbody>\n",
       "    <tr>\n",
       "      <th>0</th>\n",
       "      <td>0.0</td>\n",
       "      <td>1.0</td>\n",
       "      <td>1.0</td>\n",
       "      <td>1.0</td>\n",
       "      <td>40.0</td>\n",
       "      <td>1.0</td>\n",
       "      <td>0.0</td>\n",
       "      <td>0.0</td>\n",
       "      <td>0.0</td>\n",
       "      <td>0.0</td>\n",
       "      <td>...</td>\n",
       "      <td>1.0</td>\n",
       "      <td>0.0</td>\n",
       "      <td>5.0</td>\n",
       "      <td>18.0</td>\n",
       "      <td>15.0</td>\n",
       "      <td>1.0</td>\n",
       "      <td>0.0</td>\n",
       "      <td>9.0</td>\n",
       "      <td>4.0</td>\n",
       "      <td>3.0</td>\n",
       "    </tr>\n",
       "    <tr>\n",
       "      <th>1</th>\n",
       "      <td>0.0</td>\n",
       "      <td>0.0</td>\n",
       "      <td>0.0</td>\n",
       "      <td>0.0</td>\n",
       "      <td>25.0</td>\n",
       "      <td>1.0</td>\n",
       "      <td>0.0</td>\n",
       "      <td>0.0</td>\n",
       "      <td>1.0</td>\n",
       "      <td>0.0</td>\n",
       "      <td>...</td>\n",
       "      <td>0.0</td>\n",
       "      <td>1.0</td>\n",
       "      <td>3.0</td>\n",
       "      <td>0.0</td>\n",
       "      <td>0.0</td>\n",
       "      <td>0.0</td>\n",
       "      <td>0.0</td>\n",
       "      <td>7.0</td>\n",
       "      <td>6.0</td>\n",
       "      <td>1.0</td>\n",
       "    </tr>\n",
       "    <tr>\n",
       "      <th>3</th>\n",
       "      <td>0.0</td>\n",
       "      <td>1.0</td>\n",
       "      <td>1.0</td>\n",
       "      <td>1.0</td>\n",
       "      <td>28.0</td>\n",
       "      <td>0.0</td>\n",
       "      <td>0.0</td>\n",
       "      <td>0.0</td>\n",
       "      <td>0.0</td>\n",
       "      <td>1.0</td>\n",
       "      <td>...</td>\n",
       "      <td>1.0</td>\n",
       "      <td>1.0</td>\n",
       "      <td>5.0</td>\n",
       "      <td>30.0</td>\n",
       "      <td>30.0</td>\n",
       "      <td>1.0</td>\n",
       "      <td>0.0</td>\n",
       "      <td>9.0</td>\n",
       "      <td>4.0</td>\n",
       "      <td>8.0</td>\n",
       "    </tr>\n",
       "    <tr>\n",
       "      <th>5</th>\n",
       "      <td>0.0</td>\n",
       "      <td>1.0</td>\n",
       "      <td>0.0</td>\n",
       "      <td>1.0</td>\n",
       "      <td>27.0</td>\n",
       "      <td>0.0</td>\n",
       "      <td>0.0</td>\n",
       "      <td>0.0</td>\n",
       "      <td>1.0</td>\n",
       "      <td>1.0</td>\n",
       "      <td>...</td>\n",
       "      <td>1.0</td>\n",
       "      <td>0.0</td>\n",
       "      <td>2.0</td>\n",
       "      <td>0.0</td>\n",
       "      <td>0.0</td>\n",
       "      <td>0.0</td>\n",
       "      <td>0.0</td>\n",
       "      <td>11.0</td>\n",
       "      <td>3.0</td>\n",
       "      <td>6.0</td>\n",
       "    </tr>\n",
       "    <tr>\n",
       "      <th>6</th>\n",
       "      <td>0.0</td>\n",
       "      <td>1.0</td>\n",
       "      <td>1.0</td>\n",
       "      <td>1.0</td>\n",
       "      <td>24.0</td>\n",
       "      <td>0.0</td>\n",
       "      <td>0.0</td>\n",
       "      <td>0.0</td>\n",
       "      <td>1.0</td>\n",
       "      <td>1.0</td>\n",
       "      <td>...</td>\n",
       "      <td>1.0</td>\n",
       "      <td>0.0</td>\n",
       "      <td>2.0</td>\n",
       "      <td>3.0</td>\n",
       "      <td>0.0</td>\n",
       "      <td>0.0</td>\n",
       "      <td>0.0</td>\n",
       "      <td>11.0</td>\n",
       "      <td>5.0</td>\n",
       "      <td>4.0</td>\n",
       "    </tr>\n",
       "  </tbody>\n",
       "</table>\n",
       "<p>5 rows × 22 columns</p>\n",
       "</div>"
      ],
      "text/plain": [
       "   DIABETE3  _RFHYPE5  TOLDHI2  _CHOLCHK  _BMI5  SMOKE100  CVDSTRK3  _MICHD  \\\n",
       "0       0.0       1.0      1.0       1.0   40.0       1.0       0.0     0.0   \n",
       "1       0.0       0.0      0.0       0.0   25.0       1.0       0.0     0.0   \n",
       "3       0.0       1.0      1.0       1.0   28.0       0.0       0.0     0.0   \n",
       "5       0.0       1.0      0.0       1.0   27.0       0.0       0.0     0.0   \n",
       "6       0.0       1.0      1.0       1.0   24.0       0.0       0.0     0.0   \n",
       "\n",
       "   _TOTINDA  _FRTLT1  ...  HLTHPLN1  MEDCOST  GENHLTH  MENTHLTH  PHYSHLTH  \\\n",
       "0       0.0      0.0  ...       1.0      0.0      5.0      18.0      15.0   \n",
       "1       1.0      0.0  ...       0.0      1.0      3.0       0.0       0.0   \n",
       "3       0.0      1.0  ...       1.0      1.0      5.0      30.0      30.0   \n",
       "5       1.0      1.0  ...       1.0      0.0      2.0       0.0       0.0   \n",
       "6       1.0      1.0  ...       1.0      0.0      2.0       3.0       0.0   \n",
       "\n",
       "   DIFFWALK  SEX  _AGEG5YR  EDUCA  INCOME2  \n",
       "0       1.0  0.0       9.0    4.0      3.0  \n",
       "1       0.0  0.0       7.0    6.0      1.0  \n",
       "3       1.0  0.0       9.0    4.0      8.0  \n",
       "5       0.0  0.0      11.0    3.0      6.0  \n",
       "6       0.0  0.0      11.0    5.0      4.0  \n",
       "\n",
       "[5 rows x 22 columns]"
      ]
     },
     "execution_count": 106,
     "metadata": {},
     "output_type": "execute_result"
    }
   ],
   "source": [
    "#Let's see what the data looks like after Modifying Values\n",
    "brfss_df_selected.head()"
   ]
  },
  {
   "cell_type": "code",
   "execution_count": 107,
   "metadata": {},
   "outputs": [
    {
     "data": {
      "text/plain": [
       "DIABETE3\n",
       "0.0    213703\n",
       "1.0      4631\n",
       "2.0     35346\n",
       "dtype: int64"
      ]
     },
     "execution_count": 107,
     "metadata": {},
     "output_type": "execute_result"
    }
   ],
   "source": [
    "#Check Class Sizes of the Diabete3 column\n",
    "brfss_df_selected.groupby(['DIABETE3']).size()"
   ]
  },
  {
   "cell_type": "markdown",
   "metadata": {},
   "source": [
    "#Step 3 - Make feature names more readable"
   ]
  },
  {
   "cell_type": "code",
   "execution_count": 108,
   "metadata": {},
   "outputs": [],
   "source": [
    "#Rename the columns to make them more readable\n",
    "brfss = brfss_df_selected.rename(columns = {'DIABETE3':'Diabetes_012', \n",
    "                                         '_RFHYPE5':'HighBP',  \n",
    "                                         'TOLDHI2':'HighChol', '_CHOLCHK':'CholCheck', \n",
    "                                         '_BMI5':'BMI', \n",
    "                                         'SMOKE100':'Smoker', \n",
    "                                         'CVDSTRK3':'Stroke', '_MICHD':'HeartDiseaseorAttack', \n",
    "                                         '_TOTINDA':'PhysActivity', \n",
    "                                         '_FRTLT1':'Fruits', '_VEGLT1':\"Veggies\", \n",
    "                                         '_RFDRHV5':'HvyAlcoholConsump', \n",
    "                                         'HLTHPLN1':'AnyHealthcare', 'MEDCOST':'NoDocbcCost', \n",
    "                                         'GENHLTH':'GenHlth', 'MENTHLTH':'MentHlth', 'PHYSHLTH':'PhysHlth', 'DIFFWALK':'DiffWalk', \n",
    "                                         'SEX':'Sex', '_AGEG5YR':'Age', 'EDUCA':'Education', 'INCOME2':'Income' })\n"
   ]
  },
  {
   "cell_type": "code",
   "execution_count": 109,
   "metadata": {},
   "outputs": [
    {
     "data": {
      "text/html": [
       "<div>\n",
       "<style scoped>\n",
       "    .dataframe tbody tr th:only-of-type {\n",
       "        vertical-align: middle;\n",
       "    }\n",
       "\n",
       "    .dataframe tbody tr th {\n",
       "        vertical-align: top;\n",
       "    }\n",
       "\n",
       "    .dataframe thead th {\n",
       "        text-align: right;\n",
       "    }\n",
       "</style>\n",
       "<table border=\"1\" class=\"dataframe\">\n",
       "  <thead>\n",
       "    <tr style=\"text-align: right;\">\n",
       "      <th></th>\n",
       "      <th>Diabetes_012</th>\n",
       "      <th>HighBP</th>\n",
       "      <th>HighChol</th>\n",
       "      <th>CholCheck</th>\n",
       "      <th>BMI</th>\n",
       "      <th>Smoker</th>\n",
       "      <th>Stroke</th>\n",
       "      <th>HeartDiseaseorAttack</th>\n",
       "      <th>PhysActivity</th>\n",
       "      <th>Fruits</th>\n",
       "      <th>...</th>\n",
       "      <th>AnyHealthcare</th>\n",
       "      <th>NoDocbcCost</th>\n",
       "      <th>GenHlth</th>\n",
       "      <th>MentHlth</th>\n",
       "      <th>PhysHlth</th>\n",
       "      <th>DiffWalk</th>\n",
       "      <th>Sex</th>\n",
       "      <th>Age</th>\n",
       "      <th>Education</th>\n",
       "      <th>Income</th>\n",
       "    </tr>\n",
       "  </thead>\n",
       "  <tbody>\n",
       "    <tr>\n",
       "      <th>0</th>\n",
       "      <td>0.0</td>\n",
       "      <td>1.0</td>\n",
       "      <td>1.0</td>\n",
       "      <td>1.0</td>\n",
       "      <td>40.0</td>\n",
       "      <td>1.0</td>\n",
       "      <td>0.0</td>\n",
       "      <td>0.0</td>\n",
       "      <td>0.0</td>\n",
       "      <td>0.0</td>\n",
       "      <td>...</td>\n",
       "      <td>1.0</td>\n",
       "      <td>0.0</td>\n",
       "      <td>5.0</td>\n",
       "      <td>18.0</td>\n",
       "      <td>15.0</td>\n",
       "      <td>1.0</td>\n",
       "      <td>0.0</td>\n",
       "      <td>9.0</td>\n",
       "      <td>4.0</td>\n",
       "      <td>3.0</td>\n",
       "    </tr>\n",
       "    <tr>\n",
       "      <th>1</th>\n",
       "      <td>0.0</td>\n",
       "      <td>0.0</td>\n",
       "      <td>0.0</td>\n",
       "      <td>0.0</td>\n",
       "      <td>25.0</td>\n",
       "      <td>1.0</td>\n",
       "      <td>0.0</td>\n",
       "      <td>0.0</td>\n",
       "      <td>1.0</td>\n",
       "      <td>0.0</td>\n",
       "      <td>...</td>\n",
       "      <td>0.0</td>\n",
       "      <td>1.0</td>\n",
       "      <td>3.0</td>\n",
       "      <td>0.0</td>\n",
       "      <td>0.0</td>\n",
       "      <td>0.0</td>\n",
       "      <td>0.0</td>\n",
       "      <td>7.0</td>\n",
       "      <td>6.0</td>\n",
       "      <td>1.0</td>\n",
       "    </tr>\n",
       "    <tr>\n",
       "      <th>3</th>\n",
       "      <td>0.0</td>\n",
       "      <td>1.0</td>\n",
       "      <td>1.0</td>\n",
       "      <td>1.0</td>\n",
       "      <td>28.0</td>\n",
       "      <td>0.0</td>\n",
       "      <td>0.0</td>\n",
       "      <td>0.0</td>\n",
       "      <td>0.0</td>\n",
       "      <td>1.0</td>\n",
       "      <td>...</td>\n",
       "      <td>1.0</td>\n",
       "      <td>1.0</td>\n",
       "      <td>5.0</td>\n",
       "      <td>30.0</td>\n",
       "      <td>30.0</td>\n",
       "      <td>1.0</td>\n",
       "      <td>0.0</td>\n",
       "      <td>9.0</td>\n",
       "      <td>4.0</td>\n",
       "      <td>8.0</td>\n",
       "    </tr>\n",
       "    <tr>\n",
       "      <th>5</th>\n",
       "      <td>0.0</td>\n",
       "      <td>1.0</td>\n",
       "      <td>0.0</td>\n",
       "      <td>1.0</td>\n",
       "      <td>27.0</td>\n",
       "      <td>0.0</td>\n",
       "      <td>0.0</td>\n",
       "      <td>0.0</td>\n",
       "      <td>1.0</td>\n",
       "      <td>1.0</td>\n",
       "      <td>...</td>\n",
       "      <td>1.0</td>\n",
       "      <td>0.0</td>\n",
       "      <td>2.0</td>\n",
       "      <td>0.0</td>\n",
       "      <td>0.0</td>\n",
       "      <td>0.0</td>\n",
       "      <td>0.0</td>\n",
       "      <td>11.0</td>\n",
       "      <td>3.0</td>\n",
       "      <td>6.0</td>\n",
       "    </tr>\n",
       "    <tr>\n",
       "      <th>6</th>\n",
       "      <td>0.0</td>\n",
       "      <td>1.0</td>\n",
       "      <td>1.0</td>\n",
       "      <td>1.0</td>\n",
       "      <td>24.0</td>\n",
       "      <td>0.0</td>\n",
       "      <td>0.0</td>\n",
       "      <td>0.0</td>\n",
       "      <td>1.0</td>\n",
       "      <td>1.0</td>\n",
       "      <td>...</td>\n",
       "      <td>1.0</td>\n",
       "      <td>0.0</td>\n",
       "      <td>2.0</td>\n",
       "      <td>3.0</td>\n",
       "      <td>0.0</td>\n",
       "      <td>0.0</td>\n",
       "      <td>0.0</td>\n",
       "      <td>11.0</td>\n",
       "      <td>5.0</td>\n",
       "      <td>4.0</td>\n",
       "    </tr>\n",
       "  </tbody>\n",
       "</table>\n",
       "<p>5 rows × 22 columns</p>\n",
       "</div>"
      ],
      "text/plain": [
       "   Diabetes_012  HighBP  HighChol  CholCheck   BMI  Smoker  Stroke  \\\n",
       "0           0.0     1.0       1.0        1.0  40.0     1.0     0.0   \n",
       "1           0.0     0.0       0.0        0.0  25.0     1.0     0.0   \n",
       "3           0.0     1.0       1.0        1.0  28.0     0.0     0.0   \n",
       "5           0.0     1.0       0.0        1.0  27.0     0.0     0.0   \n",
       "6           0.0     1.0       1.0        1.0  24.0     0.0     0.0   \n",
       "\n",
       "   HeartDiseaseorAttack  PhysActivity  Fruits  ...  AnyHealthcare  \\\n",
       "0                   0.0           0.0     0.0  ...            1.0   \n",
       "1                   0.0           1.0     0.0  ...            0.0   \n",
       "3                   0.0           0.0     1.0  ...            1.0   \n",
       "5                   0.0           1.0     1.0  ...            1.0   \n",
       "6                   0.0           1.0     1.0  ...            1.0   \n",
       "\n",
       "   NoDocbcCost  GenHlth  MentHlth  PhysHlth  DiffWalk  Sex   Age  Education  \\\n",
       "0          0.0      5.0      18.0      15.0       1.0  0.0   9.0        4.0   \n",
       "1          1.0      3.0       0.0       0.0       0.0  0.0   7.0        6.0   \n",
       "3          1.0      5.0      30.0      30.0       1.0  0.0   9.0        4.0   \n",
       "5          0.0      2.0       0.0       0.0       0.0  0.0  11.0        3.0   \n",
       "6          0.0      2.0       3.0       0.0       0.0  0.0  11.0        5.0   \n",
       "\n",
       "   Income  \n",
       "0     3.0  \n",
       "1     1.0  \n",
       "3     8.0  \n",
       "5     6.0  \n",
       "6     4.0  \n",
       "\n",
       "[5 rows x 22 columns]"
      ]
     },
     "execution_count": 109,
     "metadata": {},
     "output_type": "execute_result"
    }
   ],
   "source": [
    "brfss.head()"
   ]
  },
  {
   "cell_type": "code",
   "execution_count": 110,
   "metadata": {},
   "outputs": [
    {
     "data": {
      "text/plain": [
       "Diabetes_012\n",
       "0.0    213703\n",
       "1.0      4631\n",
       "2.0     35346\n",
       "dtype: int64"
      ]
     },
     "execution_count": 110,
     "metadata": {},
     "output_type": "execute_result"
    }
   ],
   "source": [
    "#Check how many respondents have no diabetes, prediabetes or diabetes. Note the class imbalance!\n",
    "brfss.groupby(['Diabetes_012']).size()"
   ]
  },
  {
   "cell_type": "markdown",
   "metadata": {},
   "source": [
    "#Step 3 -Save to csv\n",
    "First save version where diabetes is the target variable and in the first column. This is the full cleaned dataset with prediabetes still there."
   ]
  },
  {
   "cell_type": "code",
   "execution_count": 111,
   "metadata": {},
   "outputs": [],
   "source": [
    "#************************************************************************************************\n",
    "brfss.to_csv('diabetes_012_health_indicators_BRFSS2015.csv', sep=\",\", index=False)\n",
    "#************************************************************************************************"
   ]
  },
  {
   "cell_type": "code",
   "execution_count": 112,
   "metadata": {},
   "outputs": [
    {
     "data": {
      "text/plain": [
       "array([0., 1.])"
      ]
     },
     "execution_count": 112,
     "metadata": {},
     "output_type": "execute_result"
    }
   ],
   "source": [
    "#Copy old table to new one.\n",
    "brfss_binary = brfss\n",
    "#Change the diabetics 2 to a 1 and pre-diabetics 1 to a 0, so that we have 0 meaning non-diabetic and pre-diabetic and 1 meaning diabetic.\n",
    "brfss_binary['Diabetes_012'] = brfss_binary['Diabetes_012'].replace({1:0})\n",
    "brfss_binary['Diabetes_012'] = brfss_binary['Diabetes_012'].replace({2:1})\n",
    "\n",
    "#Change the column name to Diabetes_binary\n",
    "brfss_binary = brfss_binary.rename(columns = {'Diabetes_012': 'Diabetes_binary'})\n",
    "brfss_binary.Diabetes_binary.unique()"
   ]
  },
  {
   "cell_type": "code",
   "execution_count": 113,
   "metadata": {},
   "outputs": [
    {
     "data": {
      "text/plain": [
       "Diabetes_binary\n",
       "0.0    218334\n",
       "1.0     35346\n",
       "dtype: int64"
      ]
     },
     "execution_count": 113,
     "metadata": {},
     "output_type": "execute_result"
    }
   ],
   "source": [
    "#show class sizes\n",
    "brfss_binary.groupby(['Diabetes_binary']).size()"
   ]
  },
  {
   "cell_type": "code",
   "execution_count": 117,
   "metadata": {},
   "outputs": [],
   "source": [
    "#Separate the 0(No Diabetes) and 1&2(Pre-diabetes and Diabetes)\n",
    "#Get the 1s\n",
    "is1 = brfss_binary['Diabetes_binary'] == 1\n",
    "brfss_5050_1 = brfss_binary[is1]\n",
    "\n",
    "#Get the 0s\n",
    "is0 = brfss_binary['Diabetes_binary'] == 0\n",
    "brfss_5050_0 = brfss_binary[is0] \n",
    "\n",
    "#Select the 39977 random cases from the 0 (non-diabetes group). we already have 35346 cases from the diabetes risk group\n",
    "brfss_5050_0_rand1 = brfss_5050_0.take(np.random.permutation(len(brfss_5050_0))[:35346])\n",
    "\n",
    "#Append the 39977 1s to the 39977 randomly selected 0s\n",
    "\n",
    "\n",
    "brfss_5050 = pd.concat([brfss_5050_0_rand1, brfss_5050_1], ignore_index=True)"
   ]
  },
  {
   "cell_type": "code",
   "execution_count": 118,
   "metadata": {},
   "outputs": [
    {
     "name": "stdout",
     "output_type": "stream",
     "text": [
      "brfss_5050=(70692, 22) brfss_binary=(253680, 22)\n"
     ]
    }
   ],
   "source": [
    "print(f'brfss_5050={brfss_5050.shape}',f'brfss_binary={brfss_binary.shape}')"
   ]
  },
  {
   "cell_type": "code",
   "execution_count": 119,
   "metadata": {},
   "outputs": [],
   "source": [
    "#Save the 50-50 balanced dataset to csv\n",
    "#************************************************************************************************\n",
    "brfss_5050.to_csv('diabetes_binary_5050split_health_indicators_BRFSS2015.csv', sep=\",\", index=False)\n",
    "#************************************************************************************************\n",
    "\n",
    "#Also save the original binary dataset to csv\n",
    "#************************************************************************************************\n",
    "brfss_binary.to_csv('diabetes_binary_health_indicators_BRFSS2015.csv', sep=\",\", index=False)\n",
    "#************************************************************************************************"
   ]
  }
 ],
 "metadata": {
  "kernelspec": {
   "display_name": "base",
   "language": "python",
   "name": "python3"
  },
  "language_info": {
   "codemirror_mode": {
    "name": "ipython",
    "version": 3
   },
   "file_extension": ".py",
   "mimetype": "text/x-python",
   "name": "python",
   "nbconvert_exporter": "python",
   "pygments_lexer": "ipython3",
   "version": "3.11.7"
  }
 },
 "nbformat": 4,
 "nbformat_minor": 2
}
